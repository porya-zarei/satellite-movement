{
 "cells": [
  {
   "cell_type": "code",
   "execution_count": 1,
   "metadata": {},
   "outputs": [],
   "source": [
    "import numpy as np"
   ]
  },
  {
   "cell_type": "code",
   "execution_count": 2,
   "metadata": {},
   "outputs": [],
   "source": [
    "EARTH_RADIUS = 6371000  # meters\n",
    "EARTH_CIRCUMFERENCE = 40075160\n",
    "LAT_TO_METER = EARTH_CIRCUMFERENCE / 360\n",
    "LON_TO_METER = EARTH_CIRCUMFERENCE / 360\n",
    "\n",
    "def lat_to_meter(lat):\n",
    "    return lat * LAT_TO_METER\n",
    "\n",
    "\n",
    "def lon_to_meter(lon):\n",
    "    return lon * LON_TO_METER\n",
    "\n",
    "\n",
    "def meter_to_lat(meter):\n",
    "    return meter / LAT_TO_METER\n",
    "\n",
    "\n",
    "def meter_to_lon(meter):\n",
    "    return meter / LON_TO_METER"
   ]
  },
  {
   "cell_type": "code",
   "execution_count": 5,
   "metadata": {},
   "outputs": [],
   "source": [
    "def get_distance(point1,point2):\n",
    "    delta_x = point2[0]-point1[0]\n",
    "    delta_y = point2[1]-point1[1]\n",
    "    return np.sqrt(lon_to_meter(delta_x)**2+lat_to_meter(delta_y)**2)"
   ]
  },
  {
   "cell_type": "code",
   "execution_count": 23,
   "metadata": {},
   "outputs": [
    {
     "name": "stdout",
     "output_type": "stream",
     "text": [
      "17455.064928217922\n",
      "17455.064928217922\n",
      "34910.12985643473\n"
     ]
    }
   ],
   "source": [
    "point1 = [66.086, 24.973]\n",
    "point2 = [66.19687501883077, 25.083875018830764]\n",
    "point3 = [65.97512498116923, 24.862124981169234]\n",
    "point4 = [66.30775003766152, 25.194750037661528]\n",
    "\n",
    "distance = get_distance(point1,point2)\n",
    "print(distance)\n",
    "distance = get_distance(point1,point3)\n",
    "print(distance)\n",
    "distance = get_distance(point1,point4)\n",
    "print(distance)"
   ]
  },
  {
   "cell_type": "code",
   "execution_count": 4,
   "metadata": {},
   "outputs": [],
   "source": [
    "def get_shifted_point(point, distance, angle, step, right=True):\n",
    "    # distance = meter_to_lon(distance)\n",
    "    if step == 0:\n",
    "        return point\n",
    "    if angle <= 90:\n",
    "        angle = np.pi * (angle / 180)\n",
    "        theta = (np.pi / 2) - angle\n",
    "        delta_x = (np.cos(theta) * distance) * step\n",
    "        delta_y = (np.sin(theta) * distance) * step\n",
    "        lon = meter_to_lon(delta_x)\n",
    "        lat = meter_to_lat(delta_y)\n",
    "        return (\n",
    "            [point[0] + lon, point[1] - lat]\n",
    "            if right\n",
    "            else [point[0] - lon, point[1] + lat]\n",
    "        )\n",
    "    else:\n",
    "        angle = np.pi * (angle / 180)\n",
    "        theta = angle - (np.pi / 2)\n",
    "        delta_x = (np.cos(theta) * distance) * step\n",
    "        delta_y = (np.sin(theta) * distance) * step\n",
    "        lon = meter_to_lon(delta_x)\n",
    "        lat = meter_to_lat(delta_y)\n",
    "        return (\n",
    "            [point[0] + lon, point[1] + lat]\n",
    "            if right\n",
    "            else [point[0] - lon, point[1] - lat]\n",
    "        )"
   ]
  },
  {
   "cell_type": "code",
   "execution_count": 6,
   "metadata": {},
   "outputs": [
    {
     "name": "stdout",
     "output_type": "stream",
     "text": [
      "52365.194784652966\n"
     ]
    }
   ],
   "source": [
    "# point5 = get_shifted_point([0,0],10000,45,1,True)\n",
    "# print(point5)\n",
    "distance = get_distance([54.79933146938598, 27.737188000426514],[54.414, 28.007])\n",
    "print(distance)"
   ]
  },
  {
   "cell_type": "code",
   "execution_count": 26,
   "metadata": {},
   "outputs": [],
   "source": [
    "def get_point(point, distance, angle, action=1):\n",
    "    distance = distance * np.sqrt(2)\n",
    "    if angle <= 90:\n",
    "        if action % 2 == 1:\n",
    "            theta = (np.pi * (angle - 45)) / 180\n",
    "            delta_y = np.sin(theta) * distance\n",
    "            delta_x = np.cos(theta) * distance\n",
    "            lat = meter_to_lat(delta_y)\n",
    "            lon = meter_to_lon(delta_x)\n",
    "            return (\n",
    "                [point[0] + lon, point[1] + lat]\n",
    "                if action == 1\n",
    "                else [point[0] - lon, point[1] - lat]\n",
    "            )\n",
    "        elif action % 2 == 0:\n",
    "            theta = (np.pi * (180 - angle - 45)) / 180\n",
    "            delta_y = np.sin(theta) * distance\n",
    "            delta_x = np.cos(theta) * distance\n",
    "            lat = meter_to_lat(delta_y)\n",
    "            lon = meter_to_lon(delta_x)\n",
    "            return (\n",
    "                [point[0] - lon, point[1] + lat]\n",
    "                if action == 2\n",
    "                else [point[0] + lon, point[1] - lat]\n",
    "            )\n",
    "    else:\n",
    "        if action % 2 == 1:\n",
    "            theta = (np.pi * (angle - 45)) / 180\n",
    "            delta_y = np.sin(theta) * distance\n",
    "            delta_x = np.cos(theta) * distance\n",
    "            lat = meter_to_lat(delta_y)\n",
    "            lon = meter_to_lon(delta_x)\n",
    "            return (\n",
    "                [point[0] + lon, point[1] + lat]\n",
    "                if action == 1\n",
    "                else [point[0] - lon, point[1] - lat]\n",
    "            )\n",
    "        elif action % 2 == 0:\n",
    "            theta = (np.pi * (180 - angle - 45)) / 180\n",
    "            delta_y = np.sin(theta) * distance\n",
    "            delta_x = np.cos(theta) * distance\n",
    "            lat = meter_to_lat(delta_y)\n",
    "            lon = meter_to_lon(delta_x)\n",
    "            return (\n",
    "                [point[0] - lon, point[1] + lat]\n",
    "                if action == 2\n",
    "                else [point[0] + lon, point[1] - lat]\n",
    "            )\n",
    "\n",
    "\n",
    "def get_points(distance, point=(0, 0), angle=0):\n",
    "    point1 = get_point(point, distance, angle, 1)\n",
    "    point2 = get_point(point, distance, angle, 2)\n",
    "    point3 = get_point(point, distance, angle, 3)\n",
    "    point4 = get_point(point, distance, angle, 4)\n",
    "    return [point1, point2, point3, point4]"
   ]
  },
  {
   "cell_type": "code",
   "execution_count": 36,
   "metadata": {},
   "outputs": [
    {
     "data": {
      "text/plain": [
       "[[0.1270405114924842, 0.0],\n",
       " [-7.778987788065664e-18, 0.1270405114924842],\n",
       " [-0.1270405114924842, 0.0],\n",
       " [7.778987788065664e-18, -0.1270405114924842]]"
      ]
     },
     "execution_count": 36,
     "metadata": {},
     "output_type": "execute_result"
    }
   ],
   "source": [
    "points = get_points(10000,[0,0],45)\n",
    "points"
   ]
  },
  {
   "cell_type": "code",
   "execution_count": 32,
   "metadata": {},
   "outputs": [
    {
     "data": {
      "text/plain": [
       "0.0"
      ]
     },
     "execution_count": 32,
     "metadata": {},
     "output_type": "execute_result"
    }
   ],
   "source": [
    "get_distance(points[0],points[0])"
   ]
  },
  {
   "cell_type": "code",
   "execution_count": 20,
   "metadata": {},
   "outputs": [],
   "source": [
    "arr = np.array([[1,50,100],[0,50,0],[0,0,6]])"
   ]
  },
  {
   "cell_type": "code",
   "execution_count": 21,
   "metadata": {},
   "outputs": [
    {
     "data": {
      "text/plain": [
       "1141.7777777777778"
      ]
     },
     "execution_count": 21,
     "metadata": {},
     "output_type": "execute_result"
    }
   ],
   "source": [
    "np.var(arr)"
   ]
  },
  {
   "cell_type": "code",
   "execution_count": 5,
   "metadata": {},
   "outputs": [
    {
     "name": "stdout",
     "output_type": "stream",
     "text": [
      "111319.88888888889 111319.88888888889\n"
     ]
    }
   ],
   "source": [
    "print(LAT_TO_METER,LON_TO_METER)"
   ]
  },
  {
   "cell_type": "code",
   "execution_count": 10,
   "metadata": {},
   "outputs": [
    {
     "name": "stdout",
     "output_type": "stream",
     "text": [
      "99938157\n",
      "1238445.4004908714  km^2\n"
     ]
    }
   ],
   "source": [
    "none_zeros = 99938157\n",
    "print(none_zeros)\n",
    "area = none_zeros * (LAT_TO_METER/1000) * (LON_TO_METER/1000)\n",
    "print(area/1e6,\" km^2\")"
   ]
  },
  {
   "cell_type": "code",
   "execution_count": 28,
   "metadata": {},
   "outputs": [
    {
     "name": "stdout",
     "output_type": "stream",
     "text": [
      "17455.06492821787\n",
      "[63.086, 28.18259713392348]\n",
      "52365.194784652966\n"
     ]
    }
   ],
   "source": [
    "# tilted_point = [54.79933146938598, 27.737188000426514]\n",
    "# org_point = [54.414, 28.007]\n",
    "tilted_point = [63.21444382312866, 28.74293733319116]\n",
    "org_point = [63.086, 28.653]\n",
    "distance = get_distance(org_point,tilted_point)\n",
    "print(distance)\n",
    "new_tilted= get_shifted_point(org_point,52365.1947846529/3,0,3,True)\n",
    "print(new_tilted)\n",
    "print(get_distance(org_point,new_tilted))"
   ]
  },
  {
   "cell_type": "code",
   "execution_count": 59,
   "metadata": {},
   "outputs": [
    {
     "name": "stdout",
     "output_type": "stream",
     "text": [
      "b'gAAAAABjDf7evoYFJBmJUt6fRdLqLYv-y0lzd2skIAs8f8BpWvQ8rmGvW6KSO16VtFnVk6vStHRolg1GxXA3t-UgdM9Xcd9nGg=='\n"
     ]
    },
    {
     "data": {
      "text/plain": [
       "b'salam'"
      ]
     },
     "execution_count": 59,
     "metadata": {},
     "output_type": "execute_result"
    }
   ],
   "source": [
    "import base64\n",
    "import os\n",
    "from cryptography.fernet import Fernet\n",
    "from cryptography.hazmat.primitives import hashes\n",
    "from cryptography.hazmat.primitives.kdf.pbkdf2 import PBKDF2HMAC\n",
    "password = b\"salam\"\n",
    "salt = os.urandom(16)\n",
    "kdf = PBKDF2HMAC(\n",
    "    algorithm=hashes.SHA256(),\n",
    "    length=32,\n",
    "    salt=salt,\n",
    "    iterations=390000,\n",
    ")\n",
    "key = base64.urlsafe_b64encode(kdf.derive(password))\n",
    "f = Fernet(key)\n",
    "token = f.encrypt(b\"salam\")\n",
    "print(token)\n",
    "f.decrypt(token)\n",
    "\n",
    "# print(decrypt('salam','lwXIFBO8LFrJaN1RGA7pz6dtIF+FMx5/Lh7q3jshbd/ZqBOTaEkNgWR0NbLNJes8'))"
   ]
  }
 ],
 "metadata": {
  "kernelspec": {
   "display_name": "Python 3.9.8 64-bit",
   "language": "python",
   "name": "python3"
  },
  "language_info": {
   "codemirror_mode": {
    "name": "ipython",
    "version": 3
   },
   "file_extension": ".py",
   "mimetype": "text/x-python",
   "name": "python",
   "nbconvert_exporter": "python",
   "pygments_lexer": "ipython3",
   "version": "3.9.8"
  },
  "orig_nbformat": 4,
  "vscode": {
   "interpreter": {
    "hash": "543a0775a9d695e98064c9c9ea76236e93bcf47c6e0c7e88fc0c1dee4bd1263d"
   }
  }
 },
 "nbformat": 4,
 "nbformat_minor": 2
}
