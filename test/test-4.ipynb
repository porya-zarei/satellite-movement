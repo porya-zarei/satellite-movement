{
 "cells": [
  {
   "cell_type": "code",
   "execution_count": 1,
   "metadata": {},
   "outputs": [],
   "source": [
    "import pandas as pd\n",
    "import numpy as np\n",
    "import cv2\n",
    "from skimage.draw import polygon,line"
   ]
  },
  {
   "cell_type": "code",
   "execution_count": 2,
   "metadata": {},
   "outputs": [
    {
     "name": "stdout",
     "output_type": "stream",
     "text": [
      "32000 22000\n"
     ]
    }
   ],
   "source": [
    "\"\"\"https://colab.research.google.com/drive/1AkBpCFU7nW_WLbeKudcLlZD-ZK5DuQCj\"\"\"\n",
    "data_path = [\"../data/satellite-data.csv\",\"../data/satellite-data-6d.csv\",\"../data/satellite-data-6m.csv\",\"../data/data-2.csv\"][3]\n",
    "\n",
    "SCALE = 1000\n",
    "# IRAN\n",
    "IRAN_TOP_LEFT = (36,44) # long lat\n",
    "IRAN_TOP_RIGHT = (68,44) # long lat\n",
    "IRAN_BOTTOM_LEFT = (36,22) # long lat\n",
    "IRAN_BOTTOM_RIGHT = (68,22) # long lat\n",
    "IRAN_MIN = IRAN_BOTTOM_LEFT\n",
    "IRAN_MAX = IRAN_TOP_RIGHT\n",
    "\n",
    "REGION_MIN = IRAN_BOTTOM_LEFT\n",
    "REGION_MAX = IRAN_TOP_RIGHT\n",
    "MAX_X = (REGION_MAX[0]-REGION_MIN[0])*SCALE # longitude\n",
    "MAX_Y = (REGION_MAX[1]-REGION_MIN[1])*SCALE # latitude\n",
    "print(MAX_X,MAX_Y)"
   ]
  },
  {
   "cell_type": "code",
   "execution_count": 3,
   "metadata": {},
   "outputs": [
    {
     "name": "stdout",
     "output_type": "stream",
     "text": [
      "LAT_TO_METER: 111319.88888888889\n",
      "LON_TO_METER: 111319.88888888889\n"
     ]
    }
   ],
   "source": [
    "EARTH_RADIUS = 6371000 # meters\n",
    "EARTH_CIRCUMFERENCE = 40075160\n",
    "LAT_TO_METER = EARTH_CIRCUMFERENCE / 360\n",
    "LON_TO_METER = EARTH_CIRCUMFERENCE / 360\n",
    "print(\"LAT_TO_METER:\", LAT_TO_METER)\n",
    "print(\"LON_TO_METER:\", LON_TO_METER)\n",
    "def lat_to_meter(lat):\n",
    "    return lat * LAT_TO_METER\n",
    "def lon_to_meter(lon):\n",
    "    return lon * LON_TO_METER\n",
    "def meter_to_lat(meter):\n",
    "    return (meter / LAT_TO_METER)\n",
    "def meter_to_lon(meter):\n",
    "    return meter / LON_TO_METER"
   ]
  },
  {
   "cell_type": "code",
   "execution_count": 4,
   "metadata": {},
   "outputs": [
    {
     "name": "stdout",
     "output_type": "stream",
     "text": [
      "15185.531593941498\n"
     ]
    }
   ],
   "source": [
    "def get_satellite_view_distance(satellite_fov=0.87, satellite_distance=500000):\n",
    "    earth_radius = EARTH_RADIUS # earth radius in meters\n",
    "    earth_circumference = EARTH_CIRCUMFERENCE # earth circumference in meters\n",
    "    earth_max_x = earth_circumference\n",
    "    earth_max_y = earth_circumference / 2\n",
    "    satellite_fov_rad = satellite_fov * np.pi / 180 # satellite fov in radians\n",
    "    satellite_view = 2 * np.tan(satellite_fov_rad) * satellite_distance\n",
    "    scale_view = satellite_view / 5 # scale view area in meters\n",
    "    grid_size = scale_view # grid size in meters\n",
    "    return satellite_view\n",
    "print(get_satellite_view_distance())"
   ]
  },
  {
   "cell_type": "code",
   "execution_count": 5,
   "metadata": {},
   "outputs": [],
   "source": [
    "def get_point(point,distance,angle,action=1):\n",
    "    distance = distance * np.sqrt(2)\n",
    "    if angle<=90 :\n",
    "        if action%2 == 1:\n",
    "            theta = (np.pi * (angle-45))/180\n",
    "            delta_y = np.sin(theta) * distance\n",
    "            delta_x = np.cos(theta) * distance\n",
    "            lat = meter_to_lat(delta_y)\n",
    "            lon = meter_to_lon(delta_x)\n",
    "            return [point[0]+lon,point[1]+lat] if action == 1 else [point[0]-lon,point[1]-lat]\n",
    "        elif action%2 == 0:\n",
    "            theta = (np.pi * (180 - angle - 45))/180\n",
    "            delta_y = np.sin(theta) * distance\n",
    "            delta_x = np.cos(theta) * distance\n",
    "            lat = meter_to_lat(delta_y)\n",
    "            lon = meter_to_lon(delta_x)\n",
    "            return [point[0]-lon,point[1]+lat] if action == 2 else [point[0]+lon,point[1]-lat]\n",
    "    else:\n",
    "        if action%2 == 1:\n",
    "            theta = (np.pi * (angle-45))/180\n",
    "            delta_y = np.sin(theta) * distance\n",
    "            delta_x = np.cos(theta) * distance\n",
    "            lat = meter_to_lat(delta_y)\n",
    "            lon = meter_to_lon(delta_x)\n",
    "            return [point[0]+lon,point[1]+lat] if action == 1 else [point[0]-lon,point[1]-lat]\n",
    "        elif action%2 == 0:\n",
    "            theta = (np.pi * (180 - angle - 45))/180\n",
    "            delta_y = np.sin(theta) * distance\n",
    "            delta_x = np.cos(theta) * distance\n",
    "            lat = meter_to_lat(delta_y)\n",
    "            lon = meter_to_lon(delta_x)\n",
    "            return [point[0]-lon,point[1]+lat] if action == 2 else [point[0]+lon,point[1]-lat]\n",
    "\n",
    "def get_points(distance,point=(0,0),angle=0):\n",
    "    point1 = get_point(point,distance,angle,1)\n",
    "    point2 = get_point(point,distance,angle,2)\n",
    "    point3 = get_point(point,distance,angle,3)\n",
    "    point4 = get_point(point,distance,angle,4)\n",
    "    return [point1,point2,point3,point4]"
   ]
  },
  {
   "cell_type": "code",
   "execution_count": 235,
   "metadata": {},
   "outputs": [
    {
     "name": "stdout",
     "output_type": "stream",
     "text": [
      "1.3927284806400377\n",
      "[[1.3927284806400377, 0.2455756079379457], [-0.24557560793794578, 1.3927284806400377], [-1.3927284806400377, -0.2455756079379457], [0.24557560793794578, -1.3927284806400377]]\n"
     ]
    }
   ],
   "source": [
    "# test\n",
    "points = get_points(LAT_TO_METER,[0,0],55)\n",
    "# points = get_points(LAT_TO_METER,[0,0],-55)\n",
    "print(np.array(points).max())\n",
    "print(points)"
   ]
  },
  {
   "cell_type": "code",
   "execution_count": 6,
   "metadata": {},
   "outputs": [
    {
     "name": "stdout",
     "output_type": "stream",
     "text": [
      "(21446, 3)\n"
     ]
    },
    {
     "data": {
      "text/html": [
       "<div>\n",
       "<style scoped>\n",
       "    .dataframe tbody tr th:only-of-type {\n",
       "        vertical-align: middle;\n",
       "    }\n",
       "\n",
       "    .dataframe tbody tr th {\n",
       "        vertical-align: top;\n",
       "    }\n",
       "\n",
       "    .dataframe thead th {\n",
       "        text-align: right;\n",
       "    }\n",
       "</style>\n",
       "<table border=\"1\" class=\"dataframe\">\n",
       "  <thead>\n",
       "    <tr style=\"text-align: right;\">\n",
       "      <th></th>\n",
       "      <th>Time</th>\n",
       "      <th>Latitude</th>\n",
       "      <th>Longitude</th>\n",
       "    </tr>\n",
       "  </thead>\n",
       "  <tbody>\n",
       "    <tr>\n",
       "      <th>0</th>\n",
       "      <td>24 Aug 2022 08:02:07.696</td>\n",
       "      <td>44.000</td>\n",
       "      <td>44.565</td>\n",
       "    </tr>\n",
       "    <tr>\n",
       "      <th>1</th>\n",
       "      <td>24 Aug 2022 08:02:09.000</td>\n",
       "      <td>43.950</td>\n",
       "      <td>44.650</td>\n",
       "    </tr>\n",
       "    <tr>\n",
       "      <th>2</th>\n",
       "      <td>24 Aug 2022 08:02:11.000</td>\n",
       "      <td>43.873</td>\n",
       "      <td>44.781</td>\n",
       "    </tr>\n",
       "    <tr>\n",
       "      <th>3</th>\n",
       "      <td>24 Aug 2022 08:02:13.000</td>\n",
       "      <td>43.796</td>\n",
       "      <td>44.912</td>\n",
       "    </tr>\n",
       "    <tr>\n",
       "      <th>4</th>\n",
       "      <td>24 Aug 2022 08:02:15.000</td>\n",
       "      <td>43.718</td>\n",
       "      <td>45.042</td>\n",
       "    </tr>\n",
       "  </tbody>\n",
       "</table>\n",
       "</div>"
      ],
      "text/plain": [
       "                       Time  Latitude  Longitude\n",
       "0  24 Aug 2022 08:02:07.696    44.000     44.565\n",
       "1  24 Aug 2022 08:02:09.000    43.950     44.650\n",
       "2  24 Aug 2022 08:02:11.000    43.873     44.781\n",
       "3  24 Aug 2022 08:02:13.000    43.796     44.912\n",
       "4  24 Aug 2022 08:02:15.000    43.718     45.042"
      ]
     },
     "execution_count": 6,
     "metadata": {},
     "output_type": "execute_result"
    }
   ],
   "source": [
    "# read csv data\n",
    "df = pd.read_csv(\"../data/data.csv\")\n",
    "df_columns_org = list(df.columns)\n",
    "df_columns_org\n",
    "\n",
    "df.drop(df_columns_org[3:], axis=1, inplace=True)\n",
    "\n",
    "new_columns_names = [\"Time\",\"Latitude\",\"Longitude\"]\n",
    "df.columns = new_columns_names\n",
    "# df = df.drop([i for i in range(6000,df.shape[0])])\n",
    "print(df.shape)\n",
    "df.head()"
   ]
  },
  {
   "cell_type": "code",
   "execution_count": 7,
   "metadata": {},
   "outputs": [],
   "source": [
    "def filter_region(df,region_min,region_max,limit=3):\n",
    "    print(region_min,region_max)\n",
    "    indexes =[]\n",
    "    for i in range(df.shape[0]):\n",
    "        point = [df.iloc[i][new_columns_names[2]],df.iloc[i][new_columns_names[1]]]\n",
    "        if point[0]<=(region_min[0]+limit) or point[0] >= (region_max[0]-limit):\n",
    "            indexes.append(i)\n",
    "            continue\n",
    "        if point[1]<=(region_min[1]+limit) or point[1] >= (region_max[1]-limit):\n",
    "            indexes.append(i)\n",
    "            continue\n",
    "    print(df.shape,len(indexes))\n",
    "    df = df.drop(indexes)\n",
    "    return df\n",
    "    "
   ]
  },
  {
   "cell_type": "code",
   "execution_count": 56,
   "metadata": {},
   "outputs": [
    {
     "name": "stdout",
     "output_type": "stream",
     "text": [
      "(36, 22) (68, 44)\n",
      "(21446, 3) 3108\n"
     ]
    },
    {
     "data": {
      "text/html": [
       "<div>\n",
       "<style scoped>\n",
       "    .dataframe tbody tr th:only-of-type {\n",
       "        vertical-align: middle;\n",
       "    }\n",
       "\n",
       "    .dataframe tbody tr th {\n",
       "        vertical-align: top;\n",
       "    }\n",
       "\n",
       "    .dataframe thead th {\n",
       "        text-align: right;\n",
       "    }\n",
       "</style>\n",
       "<table border=\"1\" class=\"dataframe\">\n",
       "  <thead>\n",
       "    <tr style=\"text-align: right;\">\n",
       "      <th></th>\n",
       "      <th>Time</th>\n",
       "      <th>Latitude</th>\n",
       "      <th>Longitude</th>\n",
       "    </tr>\n",
       "  </thead>\n",
       "  <tbody>\n",
       "    <tr>\n",
       "      <th>14</th>\n",
       "      <td>24 Aug 2022 08:02:35.000</td>\n",
       "      <td>42.934</td>\n",
       "      <td>46.325</td>\n",
       "    </tr>\n",
       "    <tr>\n",
       "      <th>15</th>\n",
       "      <td>24 Aug 2022 08:02:37.000</td>\n",
       "      <td>42.854</td>\n",
       "      <td>46.451</td>\n",
       "    </tr>\n",
       "    <tr>\n",
       "      <th>16</th>\n",
       "      <td>24 Aug 2022 08:02:39.000</td>\n",
       "      <td>42.775</td>\n",
       "      <td>46.577</td>\n",
       "    </tr>\n",
       "    <tr>\n",
       "      <th>17</th>\n",
       "      <td>24 Aug 2022 08:02:41.000</td>\n",
       "      <td>42.695</td>\n",
       "      <td>46.703</td>\n",
       "    </tr>\n",
       "    <tr>\n",
       "      <th>18</th>\n",
       "      <td>24 Aug 2022 08:02:43.000</td>\n",
       "      <td>42.615</td>\n",
       "      <td>46.828</td>\n",
       "    </tr>\n",
       "  </tbody>\n",
       "</table>\n",
       "</div>"
      ],
      "text/plain": [
       "                        Time  Latitude  Longitude\n",
       "14  24 Aug 2022 08:02:35.000    42.934     46.325\n",
       "15  24 Aug 2022 08:02:37.000    42.854     46.451\n",
       "16  24 Aug 2022 08:02:39.000    42.775     46.577\n",
       "17  24 Aug 2022 08:02:41.000    42.695     46.703\n",
       "18  24 Aug 2022 08:02:43.000    42.615     46.828"
      ]
     },
     "execution_count": 56,
     "metadata": {},
     "output_type": "execute_result"
    }
   ],
   "source": [
    "iran_df = filter_region(df.copy(),REGION_MIN,REGION_MAX,1)\n",
    "iran_df.head()"
   ]
  },
  {
   "cell_type": "code",
   "execution_count": 57,
   "metadata": {},
   "outputs": [
    {
     "name": "stdout",
     "output_type": "stream",
     "text": [
      "Time         9 Sep 2022 19:22:56.000\n",
      "Latitude                      42.999\n",
      "Longitude                     66.997\n",
      "dtype: object\n",
      "Time         1 Sep 2022 05:11:32.000\n",
      "Latitude                      23.005\n",
      "Longitude                     37.001\n",
      "dtype: object\n"
     ]
    }
   ],
   "source": [
    "print(iran_df.max())\n",
    "print(iran_df.min())"
   ]
  },
  {
   "cell_type": "code",
   "execution_count": 58,
   "metadata": {},
   "outputs": [
    {
     "data": {
      "text/plain": [
       "(18338, 3)"
      ]
     },
     "execution_count": 58,
     "metadata": {},
     "output_type": "execute_result"
    }
   ],
   "source": [
    "iran_df.shape"
   ]
  },
  {
   "cell_type": "code",
   "execution_count": 59,
   "metadata": {},
   "outputs": [],
   "source": [
    "def transform_point(point,scale,region_min,max_x,max_y):\n",
    "    new_point = []\n",
    "    new_point.insert(0,(int(point[0] * scale)+max_x/2) - (((region_min[0])*scale)+max_x/2))\n",
    "    new_point.insert(1,((int(point[1] * scale)+max_y/2) - (((region_min[1])*scale)+max_y/2)))\n",
    "    return new_point\n",
    "def transform_points(points,scale,region_min,max_x,max_y):\n",
    "    new_points = []\n",
    "    for point in points:\n",
    "        new_points.append(transform_point(point,scale,region_min,max_x,max_y))\n",
    "    return new_points"
   ]
  },
  {
   "cell_type": "code",
   "execution_count": 60,
   "metadata": {},
   "outputs": [],
   "source": [
    "def draw_rectangle(earth,points,scale,region_min,max_x,max_y,step):\n",
    "    points = transform_points(points,scale,region_min,max_x,max_y)\n",
    "    points = np.array(points)\n",
    "    rr, cc = polygon(points[:,0], points[:,1], earth.shape)\n",
    "    earth[rr,cc] += step\n",
    "    return earth\n",
    "\n",
    "def draw_line(earth,point,next_point,scale,region_min,max_x,max_y,step):\n",
    "    point = transform_point(point,scale,region_min,max_x,max_y)\n",
    "    next_point = transform_point(next_point,scale,region_min,max_x,max_y)\n",
    "    rr,cc = line(point[0],point[1],next_point[0],next_point[1])\n",
    "    earth[rr,cc] += step\n",
    "    return earth"
   ]
  },
  {
   "cell_type": "code",
   "execution_count": 61,
   "metadata": {},
   "outputs": [],
   "source": [
    "def fill_earth(df,earth,distance,scale,region_min,angle,max_x,max_y,step=10):\n",
    "    limit = distance / 2\n",
    "    print(\"limit => \",limit)\n",
    "    for i in range(df.shape[0]-1):\n",
    "        point = [df.iloc[i][new_columns_names[2]],df.iloc[i][new_columns_names[1]]]\n",
    "        next_point = [df.iloc[i+1][new_columns_names[2]],df.iloc[i+1][new_columns_names[1]]]\n",
    "        # angle = angle if int(point[1]) <= int(next_point[1]) else 180 - angle\n",
    "        points = get_points(limit,point,angle)\n",
    "        earth = draw_rectangle(earth,points,scale,region_min,max_x,max_y,step)\n",
    "    return earth   \n",
    "    "
   ]
  },
  {
   "cell_type": "code",
   "execution_count": 14,
   "metadata": {},
   "outputs": [
    {
     "name": "stdout",
     "output_type": "stream",
     "text": [
      "[140000.0, 54000.0]\n"
     ]
    }
   ],
   "source": [
    "# test transform point\n",
    "__region_min = [-180,-90]\n",
    "__max_x = 360000\n",
    "__max_y = 180000\n",
    "__scale = 1000\n",
    "print(transform_point((-40.0,-36.0),__scale,__region_min,__max_x,__max_y))"
   ]
  },
  {
   "cell_type": "code",
   "execution_count": 72,
   "metadata": {},
   "outputs": [
    {
     "ename": "MemoryError",
     "evalue": "Unable to allocate 671. MiB for an array with shape (32000, 22000) and data type uint8",
     "output_type": "error",
     "traceback": [
      "\u001b[1;31m---------------------------------------------------------------------------\u001b[0m",
      "\u001b[1;31mMemoryError\u001b[0m                               Traceback (most recent call last)",
      "\u001b[1;32m~\\AppData\\Local\\Temp/ipykernel_7136/213203563.py\u001b[0m in \u001b[0;36m<module>\u001b[1;34m\u001b[0m\n\u001b[1;32m----> 1\u001b[1;33m \u001b[0mearth_map_mat\u001b[0m \u001b[1;33m=\u001b[0m \u001b[0mnp\u001b[0m\u001b[1;33m.\u001b[0m\u001b[0mzeros\u001b[0m\u001b[1;33m(\u001b[0m\u001b[1;33m(\u001b[0m\u001b[0mMAX_X\u001b[0m\u001b[1;33m,\u001b[0m \u001b[0mMAX_Y\u001b[0m\u001b[1;33m)\u001b[0m\u001b[1;33m,\u001b[0m\u001b[0mdtype\u001b[0m\u001b[1;33m=\u001b[0m\u001b[0mnp\u001b[0m\u001b[1;33m.\u001b[0m\u001b[0muint8\u001b[0m\u001b[1;33m)\u001b[0m\u001b[1;33m\u001b[0m\u001b[1;33m\u001b[0m\u001b[0m\n\u001b[0m",
      "\u001b[1;31mMemoryError\u001b[0m: Unable to allocate 671. MiB for an array with shape (32000, 22000) and data type uint8"
     ]
    }
   ],
   "source": [
    "earth_map_mat = np.zeros((MAX_X, MAX_Y),dtype=np.uint16)"
   ]
  },
  {
   "cell_type": "code",
   "execution_count": 54,
   "metadata": {},
   "outputs": [
    {
     "ename": "MemoryError",
     "evalue": "Unable to allocate 1.31 GiB for an array with shape (32000, 22000) and data type uint16",
     "output_type": "error",
     "traceback": [
      "\u001b[1;31m---------------------------------------------------------------------------\u001b[0m",
      "\u001b[1;31mMemoryError\u001b[0m                               Traceback (most recent call last)",
      "\u001b[1;32m~\\AppData\\Local\\Temp/ipykernel_7136/601945768.py\u001b[0m in \u001b[0;36m<module>\u001b[1;34m\u001b[0m\n\u001b[0;32m      1\u001b[0m \u001b[0mdistance\u001b[0m \u001b[1;33m=\u001b[0m \u001b[0mget_satellite_view_distance\u001b[0m\u001b[1;33m(\u001b[0m\u001b[1;33m)\u001b[0m\u001b[1;33m\u001b[0m\u001b[1;33m\u001b[0m\u001b[0m\n\u001b[1;32m----> 2\u001b[1;33m \u001b[0mearth_map_mat\u001b[0m \u001b[1;33m=\u001b[0m \u001b[0mfill_earth\u001b[0m\u001b[1;33m(\u001b[0m\u001b[0miran_df\u001b[0m\u001b[1;33m,\u001b[0m\u001b[0mearth_map_mat\u001b[0m\u001b[1;33m.\u001b[0m\u001b[0mcopy\u001b[0m\u001b[1;33m(\u001b[0m\u001b[1;33m)\u001b[0m\u001b[1;33m,\u001b[0m\u001b[0mdistance\u001b[0m\u001b[1;33m,\u001b[0m\u001b[0mSCALE\u001b[0m\u001b[1;33m,\u001b[0m\u001b[0mREGION_MIN\u001b[0m\u001b[1;33m,\u001b[0m\u001b[1;36m55\u001b[0m\u001b[1;33m,\u001b[0m\u001b[0mMAX_X\u001b[0m\u001b[1;33m,\u001b[0m\u001b[0mMAX_Y\u001b[0m\u001b[1;33m,\u001b[0m\u001b[1;36m100\u001b[0m\u001b[1;33m)\u001b[0m\u001b[1;33m\u001b[0m\u001b[1;33m\u001b[0m\u001b[0m\n\u001b[0m",
      "\u001b[1;31mMemoryError\u001b[0m: Unable to allocate 1.31 GiB for an array with shape (32000, 22000) and data type uint16"
     ]
    }
   ],
   "source": [
    "distance = get_satellite_view_distance()\n",
    "earth_map_mat = fill_earth(iran_df,earth_map_mat.copy(),distance,SCALE,REGION_MIN,55,MAX_X,MAX_Y,100)"
   ]
  },
  {
   "cell_type": "code",
   "execution_count": 17,
   "metadata": {},
   "outputs": [],
   "source": [
    "def analyze_map(map_mat):\n",
    "    print(\"mean => \",map_mat.mean())\n",
    "    print(\"max => \",map_mat.max())\n",
    "    print(\"min => \",map_mat.min())\n",
    "    print(\"sum => \",map_mat.sum())"
   ]
  },
  {
   "cell_type": "code",
   "execution_count": 41,
   "metadata": {},
   "outputs": [
    {
     "name": "stdout",
     "output_type": "stream",
     "text": [
      "mean =>  47.95750625\n",
      "max =>  1300\n",
      "min =>  0\n",
      "sum =>  3697313328\n"
     ]
    }
   ],
   "source": [
    "analyze_map(earth_map_mat)"
   ]
  },
  {
   "cell_type": "code",
   "execution_count": 50,
   "metadata": {},
   "outputs": [
    {
     "data": {
      "text/plain": [
       "0"
      ]
     },
     "execution_count": 50,
     "metadata": {},
     "output_type": "execute_result"
    }
   ],
   "source": [
    "(earth_map_mat.any()//100)"
   ]
  },
  {
   "cell_type": "code",
   "execution_count": null,
   "metadata": {},
   "outputs": [],
   "source": [
    "mat = np.rot90(earth_map_mat//100,1)\n",
    "cv2.imwrite(\"earth_map_filter_2.png\",mat)"
   ]
  },
  {
   "cell_type": "code",
   "execution_count": 55,
   "metadata": {},
   "outputs": [],
   "source": [
    "def get_ragion_sumation(earth,points,scale,region_min,max_x,max_y):\n",
    "    points = transform_points(points,scale,region_min,max_x,max_y)\n",
    "    points = np.array(points)\n",
    "    rr, cc = polygon(points[:,0], points[:,1], earth.shape)\n",
    "    return earth[rr,cc].sum()\n",
    "\n",
    "def get_shifted_points(point,distance,angle,step):\n",
    "    if angle <= 90:\n",
    "        angle = np.pi*(angle/180)\n",
    "        theta = (np.pi/2) - angle\n",
    "        delta_x = (np.cos(theta) * distance) * step\n",
    "        delta_y = (np.sin(theta) * distance) * step\n",
    "        lon = meter_to_lon(delta_x)\n",
    "        lat = meter_to_lat(delta_y)\n",
    "        return [[point[0]+lon,point[1]-lat],[point[0]-lon,point[1]+lat]]\n",
    "    else:\n",
    "        angle = np.pi*(angle/180)\n",
    "        theta = angle - (np.pi/2)\n",
    "        delta_x = (np.cos(theta) * distance) * step\n",
    "        delta_y = (np.sin(theta) * distance) * step\n",
    "        lon = meter_to_lon(delta_x)\n",
    "        lat = meter_to_lat(delta_y)\n",
    "        return [[point[0]+lon,point[1]+lat],[point[0]-lon,point[1]-lat]]\n",
    "\n",
    "def get_rotation_points(earth,point,angle,angle_step,scale,region_min,max_x,max_y):\n",
    "    distance = get_satellite_view_distance(angle_step)\n",
    "    print(distance)\n",
    "    point1,point2 = get_shifted_points(point,distance,angle,1)\n",
    "    point3,point4 = get_shifted_points(point,distance,angle,2)\n",
    "    all_points = np.array([\n",
    "        {\n",
    "            \"point\":point3,\n",
    "            \"step\":2,\n",
    "        },\n",
    "        {\n",
    "            \"point\":point1,\n",
    "            \"step\":1,\n",
    "        },\n",
    "        {\n",
    "            \"point\":point,\n",
    "            \"step\":0,\n",
    "        },\n",
    "        {\n",
    "            \"point\":point2,\n",
    "            \"step\":-1,\n",
    "        },\n",
    "        {\n",
    "            \"point\":point4,\n",
    "            \"step\":-2,\n",
    "        }\n",
    "    ])\n",
    "    print(\"all points =>\",all_points)\n",
    "    limit = get_satellite_view_distance()/2\n",
    "    min_sum = 10e12\n",
    "    min_point = None\n",
    "    print(\"limit => \",limit)\n",
    "    for pnt in all_points:\n",
    "        points = get_points(limit,pnt[\"point\"],angle)\n",
    "        print(\"points => \",points)\n",
    "        sumation = get_ragion_sumation(earth,points,scale,region_min,max_x,max_y)\n",
    "        print(\"sumation => \",sumation)\n",
    "        earth = draw_rectangle(earth,points,scale,region_min,max_x,max_y,200)\n",
    "        if sumation < min_sum:\n",
    "            min_sum = sumation\n",
    "            min_point = pnt\n",
    "    return min_sum,min_point,earth    "
   ]
  },
  {
   "cell_type": "code",
   "execution_count": 284,
   "metadata": {},
   "outputs": [
    {
     "name": "stdout",
     "output_type": "stream",
     "text": [
      "13963.541449181654\n",
      "all points => [{'point': [42.840502604032025, 24.44689447246495], 'step': 2}\n",
      " {'point': [42.73775130201601, 24.374947236232476], 'step': 1}\n",
      " {'point': [42.635, 24.303], 'step': 0}\n",
      " {'point': [42.53224869798399, 24.231052763767526], 'step': -1}\n",
      " {'point': [42.42949739596797, 24.15910552753505], 'step': -2}]\n",
      "limit =>  7592.765796970749\n",
      "points =>  [[42.85725251364057, 24.5418879303081], [42.74550914618887, 24.46364438207349], [42.82375269442348, 24.351901014621802], [42.93549606187518, 24.430144562856412]]\n",
      "sumation =>  1807436\n",
      "points =>  [[42.75450121162455, 24.469940694075625], [42.642757844172856, 24.391697145841015], [42.721001392407466, 24.279953778389327], [42.83274475985916, 24.358197326623937]]\n",
      "sumation =>  1918664\n",
      "points =>  [[42.65174990960854, 24.39799345784315], [42.540006542156846, 24.31974990960854], [42.618250090391456, 24.208006542156852], [42.72999345784315, 24.286250090391462]]\n",
      "sumation =>  2089452\n",
      "points =>  [[42.54899860759253, 24.326046221610675], [42.437255240140836, 24.247802673376064], [42.515498788375446, 24.136059305924377], [42.62724215582714, 24.214302854158987]]\n",
      "sumation =>  225488\n",
      "points =>  [[42.44624730557651, 24.2540989853782], [42.33450393812482, 24.17585543714359], [42.41274748635943, 24.0641120696919], [42.52449085381112, 24.142355617926512]]\n",
      "sumation =>  301800\n"
     ]
    }
   ],
   "source": [
    "min_sum,point,new_map = get_rotation_points(earth_map_mat.copy(),[42.635,24.303],125,0.8,SCALE,REGION_MIN,MAX_X,MAX_Y)"
   ]
  },
  {
   "cell_type": "code",
   "execution_count": 265,
   "metadata": {},
   "outputs": [
    {
     "name": "stdout",
     "output_type": "stream",
     "text": [
      "0\n",
      "{'point': [42.840502604032025, 24.44689447246495], 'step': 2}\n",
      "mean =>  1.1424919772727273\n",
      "max =>  200\n",
      "min =>  0\n",
      "sum =>  804314352\n"
     ]
    }
   ],
   "source": [
    "print(min_sum)\n",
    "print(point)\n",
    "analyze_map(earth_map_mat)"
   ]
  },
  {
   "cell_type": "code",
   "execution_count": 285,
   "metadata": {},
   "outputs": [
    {
     "data": {
      "text/plain": [
       "True"
      ]
     },
     "execution_count": 285,
     "metadata": {},
     "output_type": "execute_result"
    }
   ],
   "source": [
    "img = np.rot90(new_map,1)\n",
    "cv2.imwrite(\"earth_map_filter_2.png\",img)"
   ]
  }
 ],
 "metadata": {
  "kernelspec": {
   "display_name": "Python 3.9.8 64-bit",
   "language": "python",
   "name": "python3"
  },
  "language_info": {
   "codemirror_mode": {
    "name": "ipython",
    "version": 3
   },
   "file_extension": ".py",
   "mimetype": "text/x-python",
   "name": "python",
   "nbconvert_exporter": "python",
   "pygments_lexer": "ipython3",
   "version": "3.9.8"
  },
  "orig_nbformat": 4,
  "vscode": {
   "interpreter": {
    "hash": "543a0775a9d695e98064c9c9ea76236e93bcf47c6e0c7e88fc0c1dee4bd1263d"
   }
  }
 },
 "nbformat": 4,
 "nbformat_minor": 2
}
